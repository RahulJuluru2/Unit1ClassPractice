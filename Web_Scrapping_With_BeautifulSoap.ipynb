{
  "nbformat": 4,
  "nbformat_minor": 0,
  "metadata": {
    "colab": {
      "name": "Web Scrapping With BeautifulSoap.ipynb",
      "provenance": [],
      "authorship_tag": "ABX9TyPcJnb8G1SKM0AYOJJfeQLV",
      "include_colab_link": true
    },
    "kernelspec": {
      "name": "python3",
      "display_name": "Python 3"
    },
    "language_info": {
      "name": "python"
    }
  },
  "cells": [
    {
      "cell_type": "markdown",
      "metadata": {
        "id": "view-in-github",
        "colab_type": "text"
      },
      "source": [
        "<a href=\"https://colab.research.google.com/github/RahulJuluru2/Unit1ClassPractice/blob/main/Web_Scrapping_With_BeautifulSoap.ipynb\" target=\"_parent\"><img src=\"https://colab.research.google.com/assets/colab-badge.svg\" alt=\"Open In Colab\"/></a>"
      ]
    },
    {
      "cell_type": "code",
      "execution_count": 1,
      "metadata": {
        "colab": {
          "base_uri": "https://localhost:8080/"
        },
        "id": "FvRL8r8EY8AO",
        "outputId": "0a701ce4-aef9-4ea7-bd24-18c4233da011"
      },
      "outputs": [
        {
          "output_type": "stream",
          "name": "stdout",
          "text": [
            "Looking in indexes: https://pypi.org/simple, https://us-python.pkg.dev/colab-wheels/public/simple/\n",
            "Requirement already satisfied: requests in /usr/local/lib/python3.7/dist-packages (2.23.0)\n",
            "Requirement already satisfied: certifi>=2017.4.17 in /usr/local/lib/python3.7/dist-packages (from requests) (2022.5.18.1)\n",
            "Requirement already satisfied: idna<3,>=2.5 in /usr/local/lib/python3.7/dist-packages (from requests) (2.10)\n",
            "Requirement already satisfied: chardet<4,>=3.0.2 in /usr/local/lib/python3.7/dist-packages (from requests) (3.0.4)\n",
            "Requirement already satisfied: urllib3!=1.25.0,!=1.25.1,<1.26,>=1.21.1 in /usr/local/lib/python3.7/dist-packages (from requests) (1.24.3)\n"
          ]
        }
      ],
      "source": [
        "!pip install requests"
      ]
    },
    {
      "cell_type": "code",
      "source": [
        "!pip install beautifulsoup4"
      ],
      "metadata": {
        "colab": {
          "base_uri": "https://localhost:8080/"
        },
        "id": "iwp1t8SfZoNz",
        "outputId": "bdfbf523-bb3c-4733-d6f3-c394f43ac452"
      },
      "execution_count": 3,
      "outputs": [
        {
          "output_type": "stream",
          "name": "stdout",
          "text": [
            "Looking in indexes: https://pypi.org/simple, https://us-python.pkg.dev/colab-wheels/public/simple/\n",
            "Requirement already satisfied: beautifulsoup4 in /usr/local/lib/python3.7/dist-packages (4.6.3)\n"
          ]
        }
      ]
    },
    {
      "cell_type": "code",
      "source": [
        "# Get page data\n",
        "import requests\n",
        "from bs4 import BeautifulSoup"
      ],
      "metadata": {
        "id": "lbDTcj3UZ2-S"
      },
      "execution_count": 10,
      "outputs": []
    },
    {
      "cell_type": "code",
      "source": [
        "url = 'https://en.wikipedia.org'\n",
        "response = requests.get(url)\n",
        "\n",
        "page = response.content"
      ],
      "metadata": {
        "id": "SKf0kp53Z7Sf"
      },
      "execution_count": 11,
      "outputs": []
    },
    {
      "cell_type": "code",
      "source": [
        "soup = BeautifulSoup(page,'html.parser')\n",
        "inTheNews = soup.find('div',id='mp-itn')"
      ],
      "metadata": {
        "id": "ujowg-AraCqs"
      },
      "execution_count": 9,
      "outputs": []
    },
    {
      "cell_type": "code",
      "source": [
        "# 2.1 Print news text and links\n",
        "news = inTheNews.find_all('li')\n",
        "for n in news:\n",
        "  print(n.get_text())\n",
        "  links = n.find_all('a')\n",
        "  for link in links:\n",
        "    print(link['href'])\n",
        "    print()"
      ],
      "metadata": {
        "colab": {
          "base_uri": "https://localhost:8080/"
        },
        "id": "cHn8qm5scjHA",
        "outputId": "92a19453-1dba-4b01-98bd-0d9e52fa6070"
      },
      "execution_count": 12,
      "outputs": [
        {
          "output_type": "stream",
          "name": "stdout",
          "text": [
            "In cricket, Gujarat Titans win the Indian Premier League, defeating Rajasthan Royals  in the final (player of the match Hardik Pandya pictured).\n",
            "/wiki/Gujarat_Titans\n",
            "\n",
            "/wiki/Indian_Premier_League\n",
            "\n",
            "/wiki/Rajasthan_Royals\n",
            "\n",
            "/wiki/2022_Indian_Premier_League_Final\n",
            "\n",
            "/wiki/Hardik_Pandya\n",
            "\n",
            "Tara Air Flight 197 crashes in Nepal, killing all 22 people on board.\n",
            "/wiki/Tara_Air_Flight_197\n",
            "\n",
            "At least 31 people die in a stampede at a church charity event in Port Harcourt, Nigeria.\n",
            "/wiki/2022_Port_Harcourt_stampede\n",
            "\n",
            "/wiki/Port_Harcourt\n",
            "\n",
            "In auto racing, Marcus Ericsson wins the Indianapolis 500.\n",
            "/wiki/Auto_racing\n",
            "\n",
            "/wiki/Marcus_Ericsson\n",
            "\n",
            "/wiki/2022_Indianapolis_500\n",
            "\n",
            "COVID-19 pandemic\n",
            "/wiki/COVID-19_pandemic\n",
            "\n",
            "Russian invasion of Ukraine\n",
            "/wiki/2022_Russian_invasion_of_Ukraine\n",
            "\n",
            "Jeff Gladney\n",
            "/wiki/Jeff_Gladney\n",
            "\n",
            "Angelo Sodano\n",
            "/wiki/Angelo_Sodano\n",
            "\n",
            "George Shapiro\n",
            "/wiki/George_Shapiro\n",
            "\n",
            "Julie Beckett\n",
            "/wiki/Julie_Beckett\n",
            "\n",
            "John Thompson\n",
            "/wiki/John_Thompson_(American_football_executive)\n",
            "\n",
            "Lester Piggott\n",
            "/wiki/Lester_Piggott\n",
            "\n",
            "Nominate an article\n",
            "/wiki/Wikipedia:In_the_news/Candidates\n",
            "\n"
          ]
        }
      ]
    },
    {
      "cell_type": "code",
      "source": [
        "# 2.2 Get the image\n",
        "picDiv = inTheNews.find('div',class_='itn-img')"
      ],
      "metadata": {
        "id": "4i2bFjjRc3TQ"
      },
      "execution_count": 13,
      "outputs": []
    },
    {
      "cell_type": "code",
      "source": [
        "picture = picDiv.find('img')\n",
        "src = picture['src']\n",
        "print(src)"
      ],
      "metadata": {
        "colab": {
          "base_uri": "https://localhost:8080/"
        },
        "id": "8xa8jBg8dLlK",
        "outputId": "da67e7e0-8cb8-4191-dd4e-f8407500722c"
      },
      "execution_count": 14,
      "outputs": [
        {
          "output_type": "stream",
          "name": "stdout",
          "text": [
            "//upload.wikimedia.org/wikipedia/commons/thumb/9/9c/Hardik_Pandya_%28cropped_2%29.jpg/125px-Hardik_Pandya_%28cropped_2%29.jpg\n"
          ]
        }
      ]
    },
    {
      "cell_type": "code",
      "source": [
        "r = requests.get(\"https:\"+src)\n",
        "fName = src[src.rfind('/')+1:].replace(\"%\",'')\n",
        "print(fName)"
      ],
      "metadata": {
        "colab": {
          "base_uri": "https://localhost:8080/"
        },
        "id": "dyqHz80SdWej",
        "outputId": "3ea272d3-f517-4d17-eff9-ce21feb4c61d"
      },
      "execution_count": 16,
      "outputs": [
        {
          "output_type": "stream",
          "name": "stdout",
          "text": [
            "125px-Hardik_Pandya_28cropped_229.jpg\n"
          ]
        }
      ]
    },
    {
      "cell_type": "code",
      "source": [
        "# Savign the file\n",
        "open(fName,'wb').write(r.content)"
      ],
      "metadata": {
        "colab": {
          "base_uri": "https://localhost:8080/"
        },
        "id": "3Y9wDhd8dhVC",
        "outputId": "87554952-1c0b-48d1-85e8-47d888a33231"
      },
      "execution_count": 17,
      "outputs": [
        {
          "output_type": "execute_result",
          "data": {
            "text/plain": [
              "10252"
            ]
          },
          "metadata": {},
          "execution_count": 17
        }
      ]
    }
  ]
}