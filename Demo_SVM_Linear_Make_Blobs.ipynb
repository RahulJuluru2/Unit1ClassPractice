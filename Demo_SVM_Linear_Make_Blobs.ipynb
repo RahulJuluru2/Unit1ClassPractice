{
  "nbformat": 4,
  "nbformat_minor": 0,
  "metadata": {
    "colab": {
      "name": "Demo_SVM_Linear_Make_Blobs.ipynb",
      "provenance": [],
      "collapsed_sections": [],
      "include_colab_link": true
    },
    "kernelspec": {
      "display_name": "Python 3",
      "language": "python",
      "name": "python3"
    }
  },
  "cells": [
    {
      "cell_type": "markdown",
      "metadata": {
        "id": "view-in-github",
        "colab_type": "text"
      },
      "source": [
        "<a href=\"https://colab.research.google.com/github/RahulJuluru2/Unit1ClassPractice/blob/main/Demo_SVM_Linear_Make_Blobs.ipynb\" target=\"_parent\"><img src=\"https://colab.research.google.com/assets/colab-badge.svg\" alt=\"Open In Colab\"/></a>"
      ]
    },
    {
      "cell_type": "markdown",
      "metadata": {
        "id": "fEjBDPXeszX7"
      },
      "source": [
        "# Advanced Certification in AIML\n",
        "## A Program by IIIT-H and TalentSprint\n",
        "## Not for grading"
      ]
    },
    {
      "cell_type": "markdown",
      "metadata": {
        "id": "FXr0d8vv6w9E"
      },
      "source": [
        "###Learning Objectives\n"
      ]
    },
    {
      "cell_type": "markdown",
      "metadata": {
        "id": "txShyf2m2Bmj"
      },
      "source": [
        "\n",
        "At the end of the experiment, you will be able to:\n",
        "\n",
        "* Understand and implement SVM Linear Classifier for the given dataset\n",
        "* Separate the data in a linear manner \n",
        "\n",
        "\n"
      ]
    },
    {
      "cell_type": "markdown",
      "metadata": {
        "id": "ugJe5Yiz67UZ"
      },
      "source": [
        "### Dataset Description"
      ]
    },
    {
      "cell_type": "markdown",
      "metadata": {
        "id": "QRktF1OgcrNC"
      },
      "source": [
        "\n",
        "\n",
        "In this experiment, we will use  make_blobs from sklearn. \n",
        "\n",
        "The make_blobs() function can be used to generate blobs of points with a Gaussian distribution. It is suitable for linear classification.\n",
        "\n",
        "\n",
        "This function contains parameters like n_samples, center,  random_state, cluster_std."
      ]
    },
    {
      "cell_type": "markdown",
      "metadata": {
        "id": "UJaoXRXN7N4-"
      },
      "source": [
        "###AI/ML Technique"
      ]
    },
    {
      "cell_type": "markdown",
      "metadata": {
        "id": "WoeZsG6-2zZW"
      },
      "source": [
        "\n",
        "\n",
        "####SVM\n",
        "\n",
        "In this experiment, we are using SVM.  \n",
        "\n",
        "* SVM assumes that the data is linearly separable.\n",
        "\n",
        "* It chooses the line which is more distant from both the classes.\n",
        "\n",
        "In the SVM algorithm, we find the points closest to the line from both the classes. These points are called support vectors. We compute the distance between the line and the support vectors which is called the margin. Our goal is to maximize the margin. The hyperplane for which the margin is maximum is called the optimal hyperplane.\n",
        "\n",
        "![alttxt](https://www.researchgate.net/profile/Chittaranjan_Rout/publication/268232391/figure/fig5/AS:295357939503107@1447430228355/Hyperplane-blue-line-representation-in-SVM-Red-and-blue-circles-represent-data-points.png)\n",
        "\n",
        "\n",
        "\n"
      ]
    },
    {
      "cell_type": "markdown",
      "metadata": {
        "id": "h7afLNB_mTZs"
      },
      "source": [
        "####In this experiment we will follow the below steps:\n",
        "\n",
        "\n",
        "\n",
        "1. Generate the dataset \n",
        "\n",
        "2. Randomly choose an intercept and slope (m,c). Then attempt to draw a straight line which separates the two sets of data\n",
        "\n",
        "3. Maximize the Margin\n",
        "\n",
        "4. Try to fit the model\n",
        " \n",
        "5. Visualize the decision boundaries \n",
        " \n",
        "6. We will learn Support vectors\n",
        "    \n"
      ]
    },
    {
      "cell_type": "markdown",
      "metadata": {
        "id": "4jY1vpWqs3O9"
      },
      "source": [
        "### Setup Steps"
      ]
    },
    {
      "cell_type": "code",
      "metadata": {
        "id": "BqeToHAJYAoO"
      },
      "source": [
        "#@title Please enter your registration id to start:  { run: \"auto\", display-mode: \"form\" }\n",
        "Id = \"\" #@param {type:\"string\"}"
      ],
      "execution_count": null,
      "outputs": []
    },
    {
      "cell_type": "code",
      "metadata": {
        "id": "09E06aGHYyqw"
      },
      "source": [
        "#@title Please enter your password (normally your phone number) to continue: { run: \"auto\", display-mode: \"form\" }\n",
        "password = \"\" #@param {type:\"string\"}"
      ],
      "execution_count": null,
      "outputs": []
    },
    {
      "cell_type": "code",
      "metadata": {
        "id": "QRvlfkw5rV_Q",
        "cellView": "form"
      },
      "source": [
        "#@title Run this cell to complete the setup for this Notebook\n",
        "from IPython import get_ipython\n",
        "import warnings\n",
        "warnings.filterwarnings(\"ignore\")\n",
        "\n",
        "ipython = get_ipython()\n",
        "  \n",
        "notebook= \"Demo_SVM_Linear_Make_Blobs\" #name of the notebook\n",
        "Answer = \"Ungraded\"\n",
        "def setup():\n",
        "    from IPython.display import HTML, display\n",
        "    #ipython.magic(\"sx pip install seaborn\")\n",
        "    ipython.magic(\"sx pip install sklearn\")\n",
        "    display(HTML('<script src=\"https://dashboard.talentsprint.com/aiml/record_ip.html?traineeId={0}&recordId={1}\"></script>'.format(getId(),submission_id)))\n",
        "    print(\"Setup completed successfully\")\n",
        "    return\n",
        "\n",
        "def submit_notebook():\n",
        "    \n",
        "    ipython.magic(\"notebook -e \"+ notebook + \".ipynb\")\n",
        "    \n",
        "    import requests, json, base64, datetime\n",
        "\n",
        "    url = \"https://dashboard.talentsprint.com/xp/app/save_notebook_attempts\"\n",
        "    if not submission_id:\n",
        "      data = {\"id\" : getId(), \"notebook\" : notebook, \"mobile\" : getPassword()}\n",
        "      r = requests.post(url, data = data)\n",
        "      r = json.loads(r.text)\n",
        "\n",
        "      if r[\"status\"] == \"Success\":\n",
        "          return r[\"record_id\"]\n",
        "      elif \"err\" in r:        \n",
        "        print(r[\"err\"])\n",
        "        return None        \n",
        "      else:\n",
        "        print (\"Something is wrong, the notebook will not be submitted for grading\")\n",
        "        return None\n",
        "\n",
        "    elif getAnswer() and getComplexity() and getAdditional() and getConcepts():\n",
        "      f = open(notebook + \".ipynb\", \"rb\")\n",
        "      file_hash = base64.b64encode(f.read())\n",
        "\n",
        "      data = {\"complexity\" : Complexity, \"additional\" :Additional, \n",
        "              \"concepts\" : Concepts, \"record_id\" : submission_id, \n",
        "              \"answer\" : Answer, \"id\" : Id, \"file_hash\" : file_hash,\n",
        "              \"feedback_experiments_input\" : Comments, \"notebook\" : notebook}\n",
        "\n",
        "      r = requests.post(url, data = data)\n",
        "      r = json.loads(r.text)\n",
        "      if \"err\" in r:        \n",
        "        print(r[\"err\"])\n",
        "        return None   \n",
        "      else:\n",
        "        print(\"Your submission is successful.\")\n",
        "        print(\"Ref Id:\", submission_id)\n",
        "        print(\"Date of submission: \", r[\"date\"])\n",
        "        print(\"Time of submission: \", r[\"time\"])\n",
        "        print(\"View your submissions: https://aiml.iiith.talentsprint.com/notebook_submissions\")\n",
        "        # print(\"For any queries/discrepancies, please connect with mentors through the chat icon in LMS dashboard.\")\n",
        "      return submission_id\n",
        "    else: submission_id\n",
        "    \n",
        "\n",
        "def getAdditional():\n",
        "  try:\n",
        "    if not Additional: \n",
        "      raise NameError\n",
        "    else:\n",
        "      return Additional  \n",
        "  except NameError:\n",
        "    print (\"Please answer Additional Question\")\n",
        "    return None\n",
        "def getComments():\n",
        "  try:\n",
        "    if not Comments:\n",
        "      raise NameError\n",
        "    else:\n",
        "      return Comments\n",
        "  except NameError:\n",
        "    print (\"Please answer Comments Question\")\n",
        "    return None\n",
        "\n",
        "def getComplexity():\n",
        "  try:\n",
        "    if not Complexity:\n",
        "      raise NameError\n",
        "    else:\n",
        "      return Complexity\n",
        "  except NameError:\n",
        "    print (\"Please answer Complexity Question\")\n",
        "    return None\n",
        "  \n",
        "def getConcepts():\n",
        "  try:\n",
        "    if not Concepts:\n",
        "      raise NameError\n",
        "    else:\n",
        "      return Concepts\n",
        "  except NameError:\n",
        "    print (\"Please answer Concepts Question\")\n",
        "    return None\n",
        "\n",
        "def getAnswer():\n",
        "  try:\n",
        "    if not Answer:\n",
        "      raise NameError \n",
        "    else: \n",
        "      return Answer\n",
        "  except NameError:\n",
        "    print (\"Please answer Question\")\n",
        "    return None\n",
        "\n",
        "def getId():\n",
        "  try: \n",
        "    return Id if Id else None\n",
        "  except NameError:\n",
        "    return None\n",
        "\n",
        "def getPassword():\n",
        "  try:\n",
        "    return password if password else None\n",
        "  except NameError:\n",
        "    return None\n",
        "\n",
        "submission_id = None\n",
        "### Setup \n",
        "if getPassword() and getId():\n",
        "  submission_id = submit_notebook()\n",
        "  if submission_id:\n",
        "    setup()\n",
        "    \n",
        "else:\n",
        "  print (\"Please complete Id and Password cells before running setup\")\n"
      ],
      "execution_count": null,
      "outputs": []
    },
    {
      "cell_type": "markdown",
      "metadata": {
        "id": "tnmcc_vjszYC"
      },
      "source": [
        "### Import required packages"
      ]
    },
    {
      "cell_type": "code",
      "metadata": {
        "id": "PuyMcY0iszYD"
      },
      "source": [
        "import numpy as np\n",
        "import matplotlib.pyplot as plt\n",
        "from sklearn.datasets import make_blobs\n",
        "from sklearn.svm import SVC"
      ],
      "execution_count": null,
      "outputs": []
    },
    {
      "cell_type": "markdown",
      "metadata": {
        "id": "El-TvNsAszYJ"
      },
      "source": [
        "### 1. Load the dataset "
      ]
    },
    {
      "cell_type": "markdown",
      "metadata": {
        "id": "Fk7BOV3sszYK"
      },
      "source": [
        "Considering the simple case of a classification task, in which the two classes are well separated."
      ]
    },
    {
      "cell_type": "code",
      "metadata": {
        "id": "zJV-UyJvszYL"
      },
      "source": [
        "# n_samples is the total number of points equally divided among clusters.\n",
        "# centers, the number of centers to generate, or the fixed center locations.\n",
        "X, y = make_blobs(n_samples=50, centers=2, random_state=0, cluster_std=0.60)"
      ],
      "execution_count": null,
      "outputs": []
    },
    {
      "cell_type": "code",
      "metadata": {
        "id": "671pa069szYO"
      },
      "source": [
        "# Checking the length of X, y\n",
        "X.shape, y.shape"
      ],
      "execution_count": null,
      "outputs": []
    },
    {
      "cell_type": "markdown",
      "metadata": {
        "id": "4RhrJJRuszYW"
      },
      "source": [
        "### 2. Visualize the data to get more sense of data\n",
        "\n",
        "\n",
        "Matplotlib has a number of built-in colormaps using cmap, For more details refer to the following [link](https://matplotlib.org/tutorials/colors/colormaps.html)"
      ]
    },
    {
      "cell_type": "code",
      "metadata": {
        "id": "7E7CjoViszYX"
      },
      "source": [
        "plt.scatter(X[:, 0], X[:, 1], c=y, s=50, cmap=\"autumn\"); # s is marker size"
      ],
      "execution_count": null,
      "outputs": []
    },
    {
      "cell_type": "markdown",
      "metadata": {
        "id": "uFAEYV8NkQJY"
      },
      "source": [
        "### 3. Randomly choose m and c and plot the lines"
      ]
    },
    {
      "cell_type": "code",
      "metadata": {
        "id": "b1vAz9kUszYm"
      },
      "source": [
        "xfit = np.linspace(-1, 3.5)\n",
        "plt.scatter(X[:, 0], X[:, 1], c=y, s=50, cmap=\"autumn\")\n",
        "\n",
        "# Randomly choose an intercept and slope to plot a line which separates the two datasets.\n",
        "for m, b in [(1, 0.65), (0.5, 1.6), (-0.2, 2.9)]:\n",
        "  #print (m)\n",
        "  #print (b)\n",
        "  plt.plot(xfit, m * xfit + b, \"-k\")\n",
        "plt.xlim(-1, 3.5)\n",
        "plt.show()"
      ],
      "execution_count": null,
      "outputs": []
    },
    {
      "cell_type": "markdown",
      "metadata": {
        "id": "M65gvJwVszYr"
      },
      "source": [
        "These are three different separators which discriminate between these samples. \n",
        "\n",
        "**Evidently our simple intuition of \"drawing a line between classes\" is not enough, and we need to think a bit deeper?**"
      ]
    },
    {
      "cell_type": "markdown",
      "metadata": {
        "id": "c2mIzaCRszYs"
      },
      "source": [
        "### 4.  Maximize the Margin"
      ]
    },
    {
      "cell_type": "markdown",
      "metadata": {
        "id": "4oO5lZCWszYu"
      },
      "source": [
        "The intuition is that instead of creating a zero-width line between the classes, we can draw around each line a margin of some width, up to the nearest point."
      ]
    },
    {
      "cell_type": "code",
      "metadata": {
        "id": "q56tkIvRszYv"
      },
      "source": [
        "xfit = np.linspace(-1, 3.5)\n",
        "plt.scatter(X[:, 0], X[:, 1], c=y, s=50, cmap=\"autumn\")\n",
        "\n",
        "for m, b, d in [(1, 0.65, 0.33), (0.5, 1.6, 0.55), (-0.2, 2.9, 0.2)]:\n",
        "    yfit = m * xfit + b\n",
        "    plt.plot(xfit, yfit, \"-k\")\n",
        "    # fill_between() is used to fill area between the lines at a time.\n",
        "    # alpha is to regulate the transparency\n",
        "    plt.fill_between(xfit, yfit - d, yfit + d,color=\"#AAAAAA\", alpha=0.5)   \n",
        "\n",
        "plt.xlim(-1, 3.5);"
      ],
      "execution_count": null,
      "outputs": []
    },
    {
      "cell_type": "markdown",
      "metadata": {
        "id": "vyTYyr9zszY1"
      },
      "source": [
        "In support vector machines, the line that maximizes this margin is  the optimal model. Support vector machines are an example of such a maximum margin estimator."
      ]
    },
    {
      "cell_type": "markdown",
      "metadata": {
        "id": "mZyn4XnBszY3"
      },
      "source": [
        "### 5. Try to fit the model"
      ]
    },
    {
      "cell_type": "markdown",
      "metadata": {
        "id": "i9SPB8wGszY4"
      },
      "source": [
        "We will use Scikit-Learn's support vector classifier to train an SVM Linear model on this data. "
      ]
    },
    {
      "cell_type": "code",
      "metadata": {
        "id": "FP_CwszbszY5"
      },
      "source": [
        "model = SVC(kernel='linear')\n",
        "model.fit(X, y)\n",
        "model.predict(X)"
      ],
      "execution_count": null,
      "outputs": []
    },
    {
      "cell_type": "markdown",
      "metadata": {
        "id": "2hMMtcIXszY-"
      },
      "source": [
        "### 6. Visualize the decision boundaries"
      ]
    },
    {
      "cell_type": "code",
      "metadata": {
        "id": "YirYc6rHszY_",
        "cellView": "form"
      },
      "source": [
        "#@title Observe the decision boundaries\n",
        "# Let us define a function to plot the decision boundaries of SVM\n",
        "def plot_decision_boundaries(model, ax=None, plot_support=True):\n",
        "    \n",
        "    \"\"\"Plot the decision function for a 2D SVC\"\"\"\n",
        "    if ax is None:\n",
        "        ax = plt.gca()\n",
        "    xlim = ax.get_xlim()\n",
        "    print(xlim)\n",
        "    ylim = ax.get_ylim()\n",
        "    \n",
        "    # Create grid to evaluate model\n",
        "    x = np.linspace(xlim[0], xlim[1], 30)\n",
        "    y = np.linspace(ylim[0], ylim[1], 30)\n",
        "    Y, X = np.meshgrid(y, x)\n",
        "    xy = np.vstack([X.ravel(), Y.ravel()]).T\n",
        "    P = model.decision_function(xy).reshape(X.shape)\n",
        "    \n",
        "    # Plot decision boundary and margins\n",
        "    ax.contour(X, Y, P, colors='k',\n",
        "               levels=[-1, 0, 1], alpha=0.5,\n",
        "               linestyles=['--', '-', '--'])\n",
        "    \n",
        "    # Plot support vectors\n",
        "    if plot_support:\n",
        "        ax.scatter(model.support_vectors_[:, 0],\n",
        "                   model.support_vectors_[:, 1],\n",
        "                   s=300, linewidth=1, facecolors='none');\n",
        "    ax.set_xlim(xlim)\n",
        "    ax.set_ylim(ylim)\n",
        "\n",
        "plt.scatter(X[:, 0], X[:, 1], c=y, s=50, cmap='autumn')\n",
        "plot_decision_boundaries(model)\n",
        "plt.show()"
      ],
      "execution_count": null,
      "outputs": []
    },
    {
      "cell_type": "markdown",
      "metadata": {
        "id": "h_jctPfWszZL"
      },
      "source": [
        "This is the dividing line that maximizes the margin between the two sets of points. Notice that a few of the training points just touch the margin. \n",
        "These points are the pivotal elements of this fit, and are known as the support vectors, and give the algorithm its name. \n",
        "\n",
        "In Scikit-Learn, these points are stored in the support_vectors_ attribute of the classifier:"
      ]
    },
    {
      "cell_type": "code",
      "metadata": {
        "id": "e1Kv4SWqszZM"
      },
      "source": [
        "model.support_vectors_"
      ],
      "execution_count": null,
      "outputs": []
    },
    {
      "cell_type": "markdown",
      "metadata": {
        "id": "WfGGUI9JszZc"
      },
      "source": [
        "#### Acknowledgment:  Python Data Science Handbook by Jake VanderPlas"
      ]
    },
    {
      "cell_type": "markdown",
      "metadata": {
        "id": "tC2rt1ZxrgC7"
      },
      "source": [
        "# Please answer the questions below to complete the experiment:"
      ]
    },
    {
      "cell_type": "code",
      "metadata": {
        "id": "NMzKSbLIgFzQ"
      },
      "source": [
        "#@title How was the experiment? { run: \"auto\", form-width: \"500px\", display-mode: \"form\" }\n",
        "Complexity = \"\" #@param [\"\",\"Too Simple, I am wasting time\", \"Good, But Not Challenging for me\", \"Good and Challenging for me\", \"Was Tough, but I did it\", \"Too Difficult for me\"]\n"
      ],
      "execution_count": null,
      "outputs": []
    },
    {
      "cell_type": "code",
      "metadata": {
        "id": "DjcH1VWSFI2l"
      },
      "source": [
        "#@title If it was too easy, what more would you have liked to be added? If it was very difficult, what would you have liked to have been removed? { run: \"auto\", display-mode: \"form\" }\n",
        "Additional = \"\" #@param {type:\"string\"}\n"
      ],
      "execution_count": null,
      "outputs": []
    },
    {
      "cell_type": "code",
      "metadata": {
        "id": "_cTetkuegP7d"
      },
      "source": [
        "#@title Can you identify the concepts from the lecture which this experiment covered? { run: \"auto\", vertical-output: true, display-mode: \"form\" }\n",
        "Concepts = \"\" #@param [\"\",\"Yes\", \"No\"]\n"
      ],
      "execution_count": null,
      "outputs": []
    },
    {
      "cell_type": "code",
      "metadata": {
        "id": "QFQw0ddId_Ej"
      },
      "source": [
        "#@title  Text and image description/explanation and code comments within the experiment: { run: \"auto\", vertical-output: true, display-mode: \"form\" }\n",
        "Comments = \"\" #@param [\"\",\"Very Useful\", \"Somewhat Useful\", \"Not Useful\", \"Didn't use\"]\n"
      ],
      "execution_count": null,
      "outputs": []
    },
    {
      "cell_type": "code",
      "metadata": {
        "id": "-CXztFuygSBG",
        "cellView": "form"
      },
      "source": [
        "#@title Run this cell to submit your notebook  { vertical-output: true }\n",
        "try:\n",
        "  if submission_id:\n",
        "      return_id = submit_notebook()\n",
        "      if return_id : submission_id =return_id\n",
        "  else:\n",
        "      print(\"Please complete the setup first.\")\n",
        "except NameError:\n",
        "  print (\"Please complete the setup first.\")"
      ],
      "execution_count": null,
      "outputs": []
    }
  ]
}