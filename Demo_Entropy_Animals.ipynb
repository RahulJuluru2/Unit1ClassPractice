{
  "nbformat": 4,
  "nbformat_minor": 0,
  "metadata": {
    "colab": {
      "name": "Demo_Entropy_Animals.ipynb",
      "provenance": [],
      "collapsed_sections": [],
      "include_colab_link": true
    },
    "kernelspec": {
      "display_name": "Python 3",
      "language": "python",
      "name": "python3"
    }
  },
  "cells": [
    {
      "cell_type": "markdown",
      "metadata": {
        "id": "view-in-github",
        "colab_type": "text"
      },
      "source": [
        "<a href=\"https://colab.research.google.com/github/RahulJuluru2/Unit1ClassPractice/blob/main/Demo_Entropy_Animals.ipynb\" target=\"_parent\"><img src=\"https://colab.research.google.com/assets/colab-badge.svg\" alt=\"Open In Colab\"/></a>"
      ]
    },
    {
      "cell_type": "markdown",
      "metadata": {
        "id": "M6so8dzIUJsJ"
      },
      "source": [
        "# Advanced Certification in AIML\n",
        "## A Program by IIIT-H and TalentSprint\n",
        "## Not for grading"
      ]
    },
    {
      "cell_type": "markdown",
      "metadata": {
        "id": "tqgerKxHsB4o"
      },
      "source": [
        "### Learning Objective"
      ]
    },
    {
      "cell_type": "markdown",
      "metadata": {
        "id": "B4EetlousExQ"
      },
      "source": [
        "The objective of this experiment is to understand the entropy calculation in Decision tree classifier"
      ]
    },
    {
      "cell_type": "markdown",
      "metadata": {
        "id": "FWRoF8wDuFhR"
      },
      "source": [
        "### Dataset"
      ]
    },
    {
      "cell_type": "markdown",
      "metadata": {
        "id": "Zo5rkNr1xMKm"
      },
      "source": [
        "The dataset chosen for this experiment is the handmade Weight and Speed of animals dataset\n",
        "\n",
        "\n"
      ]
    },
    {
      "cell_type": "markdown",
      "metadata": {
        "id": "tYLk8_mcUOQm"
      },
      "source": [
        "### Setup Steps"
      ]
    },
    {
      "cell_type": "code",
      "metadata": {
        "id": "BqeToHAJYAoO"
      },
      "source": [
        "#@title Please enter your registration id to start:  { run: \"auto\", display-mode: \"form\" }\n",
        "Id = \"\" #@param {type:\"string\"}"
      ],
      "execution_count": null,
      "outputs": []
    },
    {
      "cell_type": "code",
      "metadata": {
        "id": "09E06aGHYyqw"
      },
      "source": [
        "#@title Please enter your password (normally your phone number) to continue: { run: \"auto\", display-mode: \"form\" }\n",
        "password = \"\" #@param {type:\"string\"}"
      ],
      "execution_count": null,
      "outputs": []
    },
    {
      "cell_type": "code",
      "metadata": {
        "id": "QRvlfkw5rV_Q",
        "cellView": "form"
      },
      "source": [
        "#@title Run this cell to complete the setup for this Notebook\n",
        "from IPython import get_ipython\n",
        "\n",
        "ipython = get_ipython()\n",
        "  \n",
        "notebook= \"Demo_Entropy_Animals\" #name of the notebook\n",
        "Answer = \"Ungraded\"\n",
        "def setup(): \n",
        "    ipython.magic(\"sx wget https://cdn.iiith.talentsprint.com/aiml/Experiment_related_data/Sample_data.csv\")\n",
        "    #ipython.magic(\"sx unzip Test.csv.zip\")\n",
        "    from IPython.display import HTML, display\n",
        "    display(HTML('<script src=\"https://dashboard.talentsprint.com/aiml/record_ip.html?traineeId={0}&recordId={1}\"></script>'.format(getId(),submission_id)))\n",
        "    print(\"Setup completed successfully\")\n",
        "    return\n",
        "\n",
        "def submit_notebook():\n",
        "    \n",
        "    ipython.magic(\"notebook -e \"+ notebook + \".ipynb\")\n",
        "    \n",
        "    import requests, json, base64, datetime\n",
        "\n",
        "    url = \"https://dashboard.talentsprint.com/xp/app/save_notebook_attempts\"\n",
        "    if not submission_id:\n",
        "      data = {\"id\" : getId(), \"notebook\" : notebook, \"mobile\" : getPassword()}\n",
        "      r = requests.post(url, data = data)\n",
        "      r = json.loads(r.text)\n",
        "\n",
        "      if r[\"status\"] == \"Success\":\n",
        "          return r[\"record_id\"]\n",
        "      elif \"err\" in r:        \n",
        "        print(r[\"err\"])\n",
        "        return None        \n",
        "      else:\n",
        "        print (\"Something is wrong, the notebook will not be submitted for grading\")\n",
        "        return None\n",
        "\n",
        "    elif getAnswer() and getComplexity() and getAdditional() and getConcepts():\n",
        "      f = open(notebook + \".ipynb\", \"rb\")\n",
        "      file_hash = base64.b64encode(f.read())\n",
        "\n",
        "      data = {\"complexity\" : Complexity, \"additional\" :Additional, \n",
        "              \"concepts\" : Concepts, \"record_id\" : submission_id, \n",
        "              \"answer\" : Answer, \"id\" : Id, \"file_hash\" : file_hash,\n",
        "              \"feedback_experiments_input\" : Comments, \"notebook\" : notebook}\n",
        "\n",
        "      r = requests.post(url, data = data)\n",
        "      r = json.loads(r.text)\n",
        "      if \"err\" in r:        \n",
        "        print(r[\"err\"])\n",
        "        return None   \n",
        "      else:\n",
        "        print(\"Your submission is successful.\")\n",
        "        print(\"Ref Id:\", submission_id)\n",
        "        print(\"Date of submission: \", r[\"date\"])\n",
        "        print(\"Time of submission: \", r[\"time\"])\n",
        "        print(\"View your submissions: https://aiml.iiith.talentsprint.com/notebook_submissions\")\n",
        "        # print(\"For any queries/discrepancies, please connect with mentors through the chat icon in LMS dashboard.\")\n",
        "      return submission_id\n",
        "    else: submission_id\n",
        "    \n",
        "\n",
        "def getAdditional():\n",
        "  try:\n",
        "    if not Additional: \n",
        "      raise NameError\n",
        "    else:\n",
        "      return Additional  \n",
        "  except NameError:\n",
        "    print (\"Please answer Additional Question\")\n",
        "    return None\n",
        "def getComments():\n",
        "  try:\n",
        "    if not Comments:\n",
        "      raise NameError\n",
        "    else:\n",
        "      return Comments\n",
        "  except NameError:\n",
        "    print (\"Please answer Comments Question\")\n",
        "    return None\n",
        "\n",
        "def getComplexity():\n",
        "  try:\n",
        "    if not Complexity:\n",
        "      raise NameError\n",
        "    else:\n",
        "      return Complexity\n",
        "  except NameError:\n",
        "    print (\"Please answer Complexity Question\")\n",
        "    return None\n",
        "  \n",
        "def getConcepts():\n",
        "  try:\n",
        "    if not Concepts:\n",
        "      raise NameError\n",
        "    else:\n",
        "      return Concepts\n",
        "  except NameError:\n",
        "    print (\"Please answer Concepts Question\")\n",
        "    return None\n",
        "\n",
        "def getAnswer():\n",
        "  try:\n",
        "    if not Answer:\n",
        "      raise NameError \n",
        "    else: \n",
        "      return Answer\n",
        "  except NameError:\n",
        "    print (\"Please answer Question\")\n",
        "    return None\n",
        "\n",
        "def getId():\n",
        "  try: \n",
        "    return Id if Id else None\n",
        "  except NameError:\n",
        "    return None\n",
        "\n",
        "def getPassword():\n",
        "  try:\n",
        "    return password if password else None\n",
        "  except NameError:\n",
        "    return None\n",
        "\n",
        "submission_id = None\n",
        "### Setup \n",
        "if getPassword() and getId():\n",
        "  submission_id = submit_notebook()\n",
        "  if submission_id:\n",
        "    setup()\n",
        "    \n",
        "else:\n",
        "  print (\"Please complete Id and Password cells before running setup\")\n"
      ],
      "execution_count": null,
      "outputs": []
    },
    {
      "cell_type": "markdown",
      "metadata": {
        "id": "XIJfF8Ky7HPG"
      },
      "source": [
        "### Import required packages"
      ]
    },
    {
      "cell_type": "code",
      "metadata": {
        "id": "yEKmaxS7UIx9"
      },
      "source": [
        "import matplotlib.pyplot as plt\n",
        "import pandas as pd"
      ],
      "execution_count": null,
      "outputs": []
    },
    {
      "cell_type": "markdown",
      "metadata": {
        "id": "NMcvvfqk7Lb5"
      },
      "source": [
        "### Load the data"
      ]
    },
    {
      "cell_type": "code",
      "metadata": {
        "id": "-5vVJtN0UIyJ"
      },
      "source": [
        "data = pd.read_csv(\"Sample_data.csv\")\n",
        "data.head()"
      ],
      "execution_count": null,
      "outputs": []
    },
    {
      "cell_type": "code",
      "metadata": {
        "id": "8ZrNGD0XUIyO"
      },
      "source": [
        "# Get the features of the data\n",
        "X1 = data.iloc[:,0]\n",
        "X2 = data.iloc[:,1]\n",
        "\n",
        "print(X1.shape, X2.shape)"
      ],
      "execution_count": null,
      "outputs": []
    },
    {
      "cell_type": "markdown",
      "metadata": {
        "id": "h1U_nSVzRpqQ"
      },
      "source": [
        "### Visualize the data\n",
        "\n",
        "Matplotlib has a number of built-in colormaps where cmap can be used, For more details refer to the following [link](https://matplotlib.org/tutorials/colors/colormaps.html)"
      ]
    },
    {
      "cell_type": "code",
      "metadata": {
        "id": "mfzZn94ByYMK"
      },
      "source": [
        "# Get the unique values of the Label column to know the total number of classes\n",
        "data.iloc[:,2].unique() "
      ],
      "execution_count": null,
      "outputs": []
    },
    {
      "cell_type": "code",
      "metadata": {
        "id": "FTzemQlBTmKJ"
      },
      "source": [
        "plt.scatter(X1, X2, c=data.iloc[:,2], cmap=\"Accent\") \n",
        "plt.show()"
      ],
      "execution_count": null,
      "outputs": []
    },
    {
      "cell_type": "markdown",
      "metadata": {
        "id": "gUhbyVelQU3A"
      },
      "source": [
        "### Calculate the Entropy\n",
        "\n",
        "Entropy $H$ = $-\\sum_{i}P_{i}\\log_{2}(P_{i})$ where $P_{i}$ is the probability of the $i$ th class.\n",
        "\n",
        "Total number of data points = $91$\n",
        " \n",
        " Total number of classes = $5$\n",
        "\n",
        "Here, we are considering $P_{i}$ as following:\n",
        "\n",
        "$P_{i}$ = number of data points in $i$ th class/Total number of data points"
      ]
    },
    {
      "cell_type": "markdown",
      "metadata": {
        "id": "Kirn2IIOQpNg"
      },
      "source": [
        "Initial Entropy = $-\\frac{10}{91}\\log_{2}(\\frac{10}{91})- \\frac{10}{91}\\log_{2}(\\frac{10}{91}) -\\frac{10}{91}\\log_{2}(\\frac{10}{91})-\\frac{10}{91}\\log_{2}(\\frac{10}{91}) - \\frac{51}{91}\\log_{2}(\\frac{51}{91})$ = $-4\\times\\frac{10}{91}\\log_{2}(\\frac{10}{91}) - \\frac{51}{91}\\log_{2}(\\frac{51}{91})$ = $1.86$"
      ]
    },
    {
      "cell_type": "markdown",
      "metadata": {
        "id": "Sdg32tWUJDzg"
      },
      "source": [
        "#### Exercise 1\n",
        "\n",
        "Calculating the entropy when the data is split at  $X=150$"
      ]
    },
    {
      "cell_type": "code",
      "metadata": {
        "id": "ev0AF8ZzJFMW"
      },
      "source": [
        "plt.scatter(X1, X2, c=data.iloc[:,2], cmap=\"Accent\")\n",
        "plt.plot([150,150],[0,150])\n",
        "plt.show()"
      ],
      "execution_count": null,
      "outputs": []
    },
    {
      "cell_type": "markdown",
      "metadata": {
        "id": "tQB51_IEJJtm"
      },
      "source": [
        "In this example, we have $5$ classes on left and $1$ class on right at $X=150$. \n",
        "\n",
        "Left side Entropy = $-\\frac{10}{51}\\log_{2}(\\frac{10}{51}) -\\frac{10}{51}\\log_{2}(\\frac{10}{51})-\\frac{10}{51}\\log_{2}(\\frac{10}{51})-\\frac{10}{51}\\log_{2}(\\frac{10}{51})- \\frac{11}{51}\\log_{2}(\\frac{11}{51})$ = $-4\\times\\frac{10}{51}\\log_{2}(\\frac{10}{51}) - \\frac{11}{51}\\log_{2}(\\frac{11}{51}) = 2.320$\n",
        "\n",
        "Right side Entropy = $-\\frac{40}{40}\\log_{2}(\\frac{40}{40}) = -1\\log_{2}(1) = 0$\n",
        "\n",
        "Total Entropy = Left side Entropy + Right side Entropy = $(\\frac{51}{91})2.320 + (\\frac{40}{91}) 0 = 1.300$"
      ]
    },
    {
      "cell_type": "markdown",
      "metadata": {
        "id": "bH-8SELWUIyS"
      },
      "source": [
        "#### Exercise 2\n",
        "\n",
        "Calculating the entropy when the data is split at  $X=100$\n",
        "\n"
      ]
    },
    {
      "cell_type": "code",
      "metadata": {
        "id": "mz9YLAlqUIyU"
      },
      "source": [
        "plt.scatter(X1, X2, c=data.iloc[:,2], cmap=\"Accent\")\n",
        "plt.plot([100,100],[0,150])\n",
        "plt.show()"
      ],
      "execution_count": null,
      "outputs": []
    },
    {
      "cell_type": "markdown",
      "metadata": {
        "id": "vn_ggQ7dTmKv"
      },
      "source": [
        "Entropy $H$ = $-\\sum_{i}P_{i}\\log_{2}(P_{i})$ where $P_{i}$ is the probability of the $i$ th class.\n",
        "\n",
        "Total number of data points = $91$\n",
        "\n",
        "For calculating total entropy, lets consider data on both right and left of $X=100$.\n",
        "\n",
        "We have $4$ classes on left and $2$ classes on right. \n",
        "\n",
        "Here, we are considering $P_{i}$ as following:\n",
        "\n",
        "$P_{i}$ = number of data points in $i$ th class/Total number of points in the left/right side of the split.\n",
        "\n",
        "Left side Entropy = $-\\frac{10}{32}\\log_{2}(\\frac{10}{32})- \\frac{10}{32}\\log_{2}(\\frac{10}{32}) -\\frac{10}{32}\\log_{2}(\\frac{10}{32}) - \\frac{2}{32}\\log_{2}(\\frac{2}{32})$ =\n",
        "$-3\\times\\frac{10}{32}\\log_{2}(\\frac{10}{32}) - \\frac{2}{32}\\log_{2}(\\frac{2}{32})$ = $1.823$\n",
        "\n",
        "Right side Entropy = $-\\frac{8}{59}\\log_{2}(\\frac{8}{59}) - \\frac{51}{59}\\log_{2}(\\frac{51}{59})$ =$ 0.572$\n",
        "\n",
        "Total Entropy = Left side Entropy + Right side Entropy = $(\\frac{32}{91})1.823 +(\\frac{59}{91})0.572=1.011$"
      ]
    },
    {
      "cell_type": "markdown",
      "metadata": {
        "id": "Agm-2TtVUIyl"
      },
      "source": [
        "#### Exercise 3\n",
        "\n",
        "Calculating the entropy when the data is split at  $y=85$"
      ]
    },
    {
      "cell_type": "code",
      "metadata": {
        "id": "Zz0ZO6eBUIyn"
      },
      "source": [
        "plt.scatter(X1, X2, c=data.iloc[:,2], cmap=\"Accent\")\n",
        "plt.plot([0,300],[85,85])\n",
        "plt.show()"
      ],
      "execution_count": null,
      "outputs": []
    },
    {
      "cell_type": "markdown",
      "metadata": {
        "id": "LfuSkCaKTmLW"
      },
      "source": [
        "In this example, for calculating total entropy, lets consider data on both below and above of $y=85$.\n",
        "\n",
        "We have $2$ classes below and $3$ classes on above. \n",
        "\n",
        "Below Entropy = $-\\frac{10}{20}\\log_{2}(\\frac{10}{20})-\\frac{10}{20}\\log_{2}(\\frac{10}{20})$=$-2\\times\\frac{10}{20}\\log_{2}(\\frac{10}{20}) = 1$\n",
        "\n",
        "Above Entropy = $-\\frac{10}{71}\\log_{2}(\\frac{10}{71})- \\frac{10}{71}\\log_{2}(\\frac{10}{71})- \\frac{51}{71}\\log_{2}(\\frac{51}{71}) $=$-2\\times\\frac{10}{71}\\log_{2}(\\frac{10}{71}) - \\frac{51}{71}\\log_{2}(\\frac{51}{71}) = 1.139$ \n",
        "\n",
        "Total Entropy = Below Entropy + Above Entropy = $(\\frac{20}{91})1 +(\\frac{71}{91}) 1.139 = 1.1084$"
      ]
    },
    {
      "cell_type": "markdown",
      "metadata": {
        "id": "tC2rt1ZxrgC7"
      },
      "source": [
        "# Please answer the questions below to complete the experiment:"
      ]
    },
    {
      "cell_type": "code",
      "metadata": {
        "id": "NMzKSbLIgFzQ"
      },
      "source": [
        "#@title How was the experiment? { run: \"auto\", form-width: \"500px\", display-mode: \"form\" }\n",
        "Complexity = \"\" #@param [\"\",\"Too Simple, I am wasting time\", \"Good, But Not Challenging for me\", \"Good and Challenging for me\", \"Was Tough, but I did it\", \"Too Difficult for me\"]\n"
      ],
      "execution_count": null,
      "outputs": []
    },
    {
      "cell_type": "code",
      "metadata": {
        "id": "DjcH1VWSFI2l"
      },
      "source": [
        "#@title If it was too easy, what more would you have liked to be added? If it was very difficult, what would you have liked to have been removed? { run: \"auto\", display-mode: \"form\" }\n",
        "Additional = \"\" #@param {type:\"string\"}\n"
      ],
      "execution_count": null,
      "outputs": []
    },
    {
      "cell_type": "code",
      "metadata": {
        "id": "_cTetkuegP7d"
      },
      "source": [
        "#@title Can you identify the concepts from the lecture which this experiment covered? { run: \"auto\", vertical-output: true, display-mode: \"form\" }\n",
        "Concepts = \"\" #@param [\"\",\"Yes\", \"No\"]\n"
      ],
      "execution_count": null,
      "outputs": []
    },
    {
      "cell_type": "code",
      "metadata": {
        "id": "QFQw0ddId_Ej"
      },
      "source": [
        "#@title  Text and image description/explanation and code comments within the experiment: { run: \"auto\", vertical-output: true, display-mode: \"form\" }\n",
        "Comments = \"\" #@param [\"\",\"Very Useful\", \"Somewhat Useful\", \"Not Useful\", \"Didn't use\"]\n"
      ],
      "execution_count": null,
      "outputs": []
    },
    {
      "cell_type": "code",
      "metadata": {
        "id": "-CXztFuygSBG",
        "cellView": "form"
      },
      "source": [
        "#@title Run this cell to submit your notebook  { vertical-output: true }\n",
        "try:\n",
        "  if submission_id:\n",
        "      return_id = submit_notebook()\n",
        "      if return_id : submission_id =return_id\n",
        "  else:\n",
        "      print(\"Please complete the setup first.\")\n",
        "except NameError:\n",
        "  print (\"Please complete the setup first.\")"
      ],
      "execution_count": null,
      "outputs": []
    }
  ]
}