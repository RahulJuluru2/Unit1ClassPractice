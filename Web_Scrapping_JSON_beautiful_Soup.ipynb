{
  "nbformat": 4,
  "nbformat_minor": 0,
  "metadata": {
    "colab": {
      "name": "Web Scrapping JSON beautiful Soup.ipynb",
      "provenance": [],
      "authorship_tag": "ABX9TyOuUXe8fveKev5HOcpeuveA",
      "include_colab_link": true
    },
    "kernelspec": {
      "name": "python3",
      "display_name": "Python 3"
    },
    "language_info": {
      "name": "python"
    }
  },
  "cells": [
    {
      "cell_type": "markdown",
      "metadata": {
        "id": "view-in-github",
        "colab_type": "text"
      },
      "source": [
        "<a href=\"https://colab.research.google.com/github/RahulJuluru2/Unit1ClassPractice/blob/main/Web_Scrapping_JSON_beautiful_Soup.ipynb\" target=\"_parent\"><img src=\"https://colab.research.google.com/assets/colab-badge.svg\" alt=\"Open In Colab\"/></a>"
      ]
    },
    {
      "cell_type": "code",
      "execution_count": 1,
      "metadata": {
        "id": "J39tuph3eESC"
      },
      "outputs": [],
      "source": [
        "# Get movei info from Netflix\n",
        "import requests\n",
        "from bs4 import BeautifulSoup\n",
        "import json"
      ]
    },
    {
      "cell_type": "code",
      "source": [
        "mid = '81350683'\n",
        "link = 'https://www.netflix.com/in/title/'+mid"
      ],
      "metadata": {
        "id": "diLnPtJMeTgU"
      },
      "execution_count": 3,
      "outputs": []
    },
    {
      "cell_type": "code",
      "source": [
        "response = requests.get(link)\n",
        "page = response.content\n",
        "soup = BeautifulSoup(page,\"html.parser\")\n",
        "\n",
        "script = soup.find(\"script\")\n",
        "print(script['type'])\n",
        "print(dir(script))"
      ],
      "metadata": {
        "colab": {
          "base_uri": "https://localhost:8080/"
        },
        "id": "EjwHGfV_hVmi",
        "outputId": "51bdcf3b-ae3a-4055-b51a-baec263541ac"
      },
      "execution_count": 6,
      "outputs": [
        {
          "output_type": "stream",
          "name": "stdout",
          "text": [
            "application/ld+json\n",
            "['HTML_FORMATTERS', 'XML_FORMATTERS', '__bool__', '__call__', '__class__', '__contains__', '__copy__', '__delattr__', '__delitem__', '__dict__', '__dir__', '__doc__', '__eq__', '__format__', '__ge__', '__getattr__', '__getattribute__', '__getitem__', '__gt__', '__hash__', '__init__', '__init_subclass__', '__iter__', '__le__', '__len__', '__lt__', '__module__', '__ne__', '__new__', '__reduce__', '__reduce_ex__', '__repr__', '__setattr__', '__setitem__', '__sizeof__', '__str__', '__subclasshook__', '__unicode__', '__weakref__', '_all_strings', '_attr_value_as_string', '_attribute_checker', '_find_all', '_find_one', '_formatter_for_name', '_is_xml', '_lastRecursiveChild', '_last_descendant', '_select_debug', '_selector_combinators', '_should_pretty_print', '_tag_name_matches_and', 'append', 'attribselect_re', 'attrs', 'can_be_empty_element', 'childGenerator', 'children', 'clear', 'contents', 'decode', 'decode_contents', 'decompose', 'descendants', 'encode', 'encode_contents', 'extract', 'fetchNextSiblings', 'fetchParents', 'fetchPrevious', 'fetchPreviousSiblings', 'find', 'findAll', 'findAllNext', 'findAllPrevious', 'findChild', 'findChildren', 'findNext', 'findNextSibling', 'findNextSiblings', 'findParent', 'findParents', 'findPrevious', 'findPreviousSibling', 'findPreviousSiblings', 'find_all', 'find_all_next', 'find_all_previous', 'find_next', 'find_next_sibling', 'find_next_siblings', 'find_parent', 'find_parents', 'find_previous', 'find_previous_sibling', 'find_previous_siblings', 'format_string', 'get', 'getText', 'get_attribute_list', 'get_text', 'has_attr', 'has_key', 'hidden', 'index', 'insert', 'insert_after', 'insert_before', 'isSelfClosing', 'is_empty_element', 'known_xml', 'name', 'namespace', 'next', 'nextGenerator', 'nextSibling', 'nextSiblingGenerator', 'next_element', 'next_elements', 'next_sibling', 'next_siblings', 'parent', 'parentGenerator', 'parents', 'parserClass', 'parser_class', 'prefix', 'preserve_whitespace_tags', 'prettify', 'previous', 'previousGenerator', 'previousSibling', 'previousSiblingGenerator', 'previous_element', 'previous_elements', 'previous_sibling', 'previous_siblings', 'quoted_colon', 'recursiveChildGenerator', 'renderContents', 'replaceWith', 'replaceWithChildren', 'replace_with', 'replace_with_children', 'select', 'select_one', 'setup', 'string', 'strings', 'stripped_strings', 'tag_name_re', 'text', 'unwrap', 'wrap']\n"
          ]
        }
      ]
    },
    {
      "cell_type": "code",
      "source": [
        "metadata = json.loads(script.text)\n",
        "metadata"
      ],
      "metadata": {
        "colab": {
          "base_uri": "https://localhost:8080/"
        },
        "id": "f3WDKdmfh587",
        "outputId": "99fa0b5a-f3b9-4f80-9db5-0f00a30741f2"
      },
      "execution_count": 8,
      "outputs": [
        {
          "output_type": "execute_result",
          "data": {
            "text/plain": [
              "{'@context': 'http://schema.org',\n",
              " '@type': 'Movie',\n",
              " 'actors': [{'@type': 'Person', 'name': 'Aslı Enver'},\n",
              "  {'@type': 'Person', 'name': 'Kaan Urgancıoğlu'},\n",
              "  {'@type': 'Person', 'name': 'Mert Ege Ak'},\n",
              "  {'@type': 'Person', 'name': 'Ezgi Şenler'},\n",
              "  {'@type': 'Person', 'name': 'Birce İrem'},\n",
              "  {'@type': 'Person', 'name': 'Sertaç Güder'},\n",
              "  {'@type': 'Person', 'name': 'Defne Ayşe Özpirinç'},\n",
              "  {'@type': 'Person', 'name': 'Gizem Özmen'},\n",
              "  {'@type': 'Person', 'name': 'Vural Şahanoğlu'},\n",
              "  {'@type': 'Person', 'name': 'Latif Koru'}],\n",
              " 'contentRating': 'TV-MA',\n",
              " 'creator': [],\n",
              " 'dateCreated': '2022-3-21',\n",
              " 'description': 'Diagnosed with a terminal illness, a single mother encounters a suave bachelor as she grapples with the future of her headstrong six-year-old.',\n",
              " 'director': [{'@type': 'Person', 'name': 'Hakan Kırvavaç \"Ketche\"'}],\n",
              " 'genre': 'Comedies',\n",
              " 'image': 'https://occ-0-2433-2430.1.nflxso.net/dnm/api/v6/6AYY37jfdO6hpXcMjf9Yu5cnmO0/AAAABZu7R1HrtolZ9NA_ahy8zJgkSOT6q7bKNLE1hXwpQL5-M60-dgQYwgmjuY48_EZicbVndYBHuHE6N3j4-a98HhvYw67Ru7Uldm_d.jpg?r=86c',\n",
              " 'name': 'In Good Hands',\n",
              " 'trailer': [{'@type': 'VideoObject',\n",
              "   'contentUrl': 'https://occ-0-2433-2430.1.nflxso.net/so/soa1/693/dac051b8771c62e4647aa6fa504dcdfb.mp4?v=1',\n",
              "   'description': 'Diagnosed with a terminal illness, a single mother encounters a suave bachelor as she grapples with the future of her headstrong six-year-old.',\n",
              "   'duration': 'PT1M55S',\n",
              "   'name': 'Trailer: In Good Hands',\n",
              "   'thumbnailUrl': 'https://occ-0-2433-2430.1.nflxso.net/dnm/api/v6/9pS1daC2n6UGc3dUogvWIPMR_OU/AAAABXhCNX_g3tKNJDJqJTrpeTjFR24ctONRqRRSQIX8nL4CsNtwlB1h8AxIvJ1mhSgGeTcNzXjQw_c_UQRB_z9Cw9Arv98ZUR8YpSUvmhh1qczPuTguBh9RCJt4.jpg?r=034',\n",
              "   'uploadDate': '2022-03-07T08:00:00.000Z'}],\n",
              " 'url': 'https://www.netflix.com/title/81350683'}"
            ]
          },
          "metadata": {},
          "execution_count": 8
        }
      ]
    },
    {
      "cell_type": "code",
      "source": [
        "actors = metadata['actors']\n",
        "for actor in actors:\n",
        "  print(actor['name'])"
      ],
      "metadata": {
        "colab": {
          "base_uri": "https://localhost:8080/"
        },
        "id": "zDEB0B-ZlVhd",
        "outputId": "3462b366-ba55-4397-dde4-27a7c9c1d646"
      },
      "execution_count": 9,
      "outputs": [
        {
          "output_type": "stream",
          "name": "stdout",
          "text": [
            "Aslı Enver\n",
            "Kaan Urgancıoğlu\n",
            "Mert Ege Ak\n",
            "Ezgi Şenler\n",
            "Birce İrem\n",
            "Sertaç Güder\n",
            "Defne Ayşe Özpirinç\n",
            "Gizem Özmen\n",
            "Vural Şahanoğlu\n",
            "Latif Koru\n"
          ]
        }
      ]
    },
    {
      "cell_type": "code",
      "source": [
        ""
      ],
      "metadata": {
        "id": "H35kcVN_llPq"
      },
      "execution_count": null,
      "outputs": []
    }
  ]
}